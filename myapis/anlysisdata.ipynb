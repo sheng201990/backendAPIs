{
 "cells": [
  {
   "cell_type": "code",
   "execution_count": null,
   "metadata": {},
   "outputs": [],
   "source": []
  },
  {
   "cell_type": "code",
   "execution_count": 11,
   "metadata": {},
   "outputs": [
    {
     "data": {
      "text/html": [
       "<div>\n",
       "<style scoped>\n",
       "    .dataframe tbody tr th:only-of-type {\n",
       "        vertical-align: middle;\n",
       "    }\n",
       "\n",
       "    .dataframe tbody tr th {\n",
       "        vertical-align: top;\n",
       "    }\n",
       "\n",
       "    .dataframe thead th {\n",
       "        text-align: right;\n",
       "    }\n",
       "</style>\n",
       "<table border=\"1\" class=\"dataframe\">\n",
       "  <thead>\n",
       "    <tr style=\"text-align: right;\">\n",
       "      <th></th>\n",
       "      <th>#</th>\n",
       "      <th>name</th>\n",
       "      <th>asof</th>\n",
       "      <th>volume</th>\n",
       "      <th>close_usd</th>\n",
       "      <th>sector_level1</th>\n",
       "      <th>sector_level2</th>\n",
       "    </tr>\n",
       "  </thead>\n",
       "  <tbody>\n",
       "    <tr>\n",
       "      <th>0</th>\n",
       "      <td>1</td>\n",
       "      <td>Amazon Com</td>\n",
       "      <td>12/1/1999</td>\n",
       "      <td>213201960</td>\n",
       "      <td>4.250000</td>\n",
       "      <td>CONSUMER CYCLICALS</td>\n",
       "      <td>Retailers</td>\n",
       "    </tr>\n",
       "    <tr>\n",
       "      <th>1</th>\n",
       "      <td>2</td>\n",
       "      <td>Amazon Com</td>\n",
       "      <td>12/2/1999</td>\n",
       "      <td>190767980</td>\n",
       "      <td>4.453125</td>\n",
       "      <td>CONSUMER CYCLICALS</td>\n",
       "      <td>Retailers</td>\n",
       "    </tr>\n",
       "    <tr>\n",
       "      <th>2</th>\n",
       "      <td>3</td>\n",
       "      <td>Amazon Com</td>\n",
       "      <td>12/3/1999</td>\n",
       "      <td>222977980</td>\n",
       "      <td>4.328125</td>\n",
       "      <td>CONSUMER CYCLICALS</td>\n",
       "      <td>Retailers</td>\n",
       "    </tr>\n",
       "    <tr>\n",
       "      <th>3</th>\n",
       "      <td>4</td>\n",
       "      <td>Amazon Com</td>\n",
       "      <td>12/6/1999</td>\n",
       "      <td>183930000</td>\n",
       "      <td>4.387500</td>\n",
       "      <td>CONSUMER CYCLICALS</td>\n",
       "      <td>Retailers</td>\n",
       "    </tr>\n",
       "    <tr>\n",
       "      <th>4</th>\n",
       "      <td>5</td>\n",
       "      <td>Amazon Com</td>\n",
       "      <td>12/7/1999</td>\n",
       "      <td>134525940</td>\n",
       "      <td>4.303125</td>\n",
       "      <td>CONSUMER CYCLICALS</td>\n",
       "      <td>Retailers</td>\n",
       "    </tr>\n",
       "    <tr>\n",
       "      <th>...</th>\n",
       "      <td>...</td>\n",
       "      <td>...</td>\n",
       "      <td>...</td>\n",
       "      <td>...</td>\n",
       "      <td>...</td>\n",
       "      <td>...</td>\n",
       "      <td>...</td>\n",
       "    </tr>\n",
       "    <tr>\n",
       "      <th>95</th>\n",
       "      <td>96</td>\n",
       "      <td>Amazon Com</td>\n",
       "      <td>4/12/2000</td>\n",
       "      <td>173903980</td>\n",
       "      <td>2.818750</td>\n",
       "      <td>CONSUMER CYCLICALS</td>\n",
       "      <td>Retailers</td>\n",
       "    </tr>\n",
       "    <tr>\n",
       "      <th>96</th>\n",
       "      <td>97</td>\n",
       "      <td>Amazon Com</td>\n",
       "      <td>4/13/2000</td>\n",
       "      <td>213544000</td>\n",
       "      <td>2.400000</td>\n",
       "      <td>CONSUMER CYCLICALS</td>\n",
       "      <td>Retailers</td>\n",
       "    </tr>\n",
       "    <tr>\n",
       "      <th>97</th>\n",
       "      <td>98</td>\n",
       "      <td>Amazon Com</td>\n",
       "      <td>4/14/2000</td>\n",
       "      <td>401275940</td>\n",
       "      <td>2.343750</td>\n",
       "      <td>CONSUMER CYCLICALS</td>\n",
       "      <td>Retailers</td>\n",
       "    </tr>\n",
       "    <tr>\n",
       "      <th>98</th>\n",
       "      <td>99</td>\n",
       "      <td>Amazon Com</td>\n",
       "      <td>4/17/2000</td>\n",
       "      <td>243585940</td>\n",
       "      <td>2.353125</td>\n",
       "      <td>CONSUMER CYCLICALS</td>\n",
       "      <td>Retailers</td>\n",
       "    </tr>\n",
       "    <tr>\n",
       "      <th>99</th>\n",
       "      <td>100</td>\n",
       "      <td>Amazon Com</td>\n",
       "      <td>4/18/2000</td>\n",
       "      <td>214740000</td>\n",
       "      <td>2.746875</td>\n",
       "      <td>CONSUMER CYCLICALS</td>\n",
       "      <td>Retailers</td>\n",
       "    </tr>\n",
       "  </tbody>\n",
       "</table>\n",
       "<p>100 rows × 7 columns</p>\n",
       "</div>"
      ],
      "text/plain": [
       "      #        name       asof     volume  close_usd       sector_level1  \\\n",
       "0     1  Amazon Com  12/1/1999  213201960   4.250000  CONSUMER CYCLICALS   \n",
       "1     2  Amazon Com  12/2/1999  190767980   4.453125  CONSUMER CYCLICALS   \n",
       "2     3  Amazon Com  12/3/1999  222977980   4.328125  CONSUMER CYCLICALS   \n",
       "3     4  Amazon Com  12/6/1999  183930000   4.387500  CONSUMER CYCLICALS   \n",
       "4     5  Amazon Com  12/7/1999  134525940   4.303125  CONSUMER CYCLICALS   \n",
       "..  ...         ...        ...        ...        ...                 ...   \n",
       "95   96  Amazon Com  4/12/2000  173903980   2.818750  CONSUMER CYCLICALS   \n",
       "96   97  Amazon Com  4/13/2000  213544000   2.400000  CONSUMER CYCLICALS   \n",
       "97   98  Amazon Com  4/14/2000  401275940   2.343750  CONSUMER CYCLICALS   \n",
       "98   99  Amazon Com  4/17/2000  243585940   2.353125  CONSUMER CYCLICALS   \n",
       "99  100  Amazon Com  4/18/2000  214740000   2.746875  CONSUMER CYCLICALS   \n",
       "\n",
       "   sector_level2  \n",
       "0      Retailers  \n",
       "1      Retailers  \n",
       "2      Retailers  \n",
       "3      Retailers  \n",
       "4      Retailers  \n",
       "..           ...  \n",
       "95     Retailers  \n",
       "96     Retailers  \n",
       "97     Retailers  \n",
       "98     Retailers  \n",
       "99     Retailers  \n",
       "\n",
       "[100 rows x 7 columns]"
      ]
     },
     "execution_count": 11,
     "metadata": {},
     "output_type": "execute_result"
    }
   ],
   "source": [
    "import pandas as pd\n",
    "\n",
    "df = pd.read_csv('/Users/shengyi/Desktop/Demo_Project/stock-data.csv')\n",
    "\n",
    "df.head(100)"
   ]
  },
  {
   "cell_type": "code",
   "execution_count": 19,
   "metadata": {},
   "outputs": [
    {
     "data": {
      "text/plain": [
       "array(['Amazon Com', 'Alphabet Class C', 'Facebook Class A ', 'Apple'],\n",
       "      dtype=object)"
      ]
     },
     "execution_count": 19,
     "metadata": {},
     "output_type": "execute_result"
    }
   ],
   "source": [
    "df['name'].unique()\n",
    "\n",
    "\n"
   ]
  },
  {
   "cell_type": "code",
   "execution_count": 20,
   "metadata": {},
   "outputs": [
    {
     "data": {
      "text/plain": [
       "array(['CONSUMER CYCLICALS', 'Technology'], dtype=object)"
      ]
     },
     "execution_count": 20,
     "metadata": {},
     "output_type": "execute_result"
    }
   ],
   "source": [
    "df['sector_level1'].unique()\n"
   ]
  },
  {
   "cell_type": "code",
   "execution_count": 21,
   "metadata": {},
   "outputs": [
    {
     "data": {
      "text/plain": [
       "array(['Retailers', 'Software & IT Services', 'Technology Equipment'],\n",
       "      dtype=object)"
      ]
     },
     "execution_count": 21,
     "metadata": {},
     "output_type": "execute_result"
    }
   ],
   "source": [
    "df['sector_level2'].unique()"
   ]
  },
  {
   "cell_type": "code",
   "execution_count": null,
   "metadata": {},
   "outputs": [],
   "source": []
  }
 ],
 "metadata": {
  "kernelspec": {
   "display_name": "venv",
   "language": "python",
   "name": "python3"
  },
  "language_info": {
   "codemirror_mode": {
    "name": "ipython",
    "version": 3
   },
   "file_extension": ".py",
   "mimetype": "text/x-python",
   "name": "python",
   "nbconvert_exporter": "python",
   "pygments_lexer": "ipython3",
   "version": "3.8.5"
  }
 },
 "nbformat": 4,
 "nbformat_minor": 2
}
